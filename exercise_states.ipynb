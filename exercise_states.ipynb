{
 "cells": [
  {
   "cell_type": "code",
   "execution_count": 1,
   "metadata": {
    "collapsed": true
   },
   "outputs": [],
   "source": [
    "\n",
    "States = ['Maharashtra',\n",
    " 'Tamil Nadu',\n",
    " 'Delhi',\n",
    " 'Gujarat',\n",
    " 'Uttar Pradesh',\n",
    " 'West Bengal',\n",
    " 'Rajasthan',\n",
    " 'Telengana',\n",
    " 'Karnataka',\n",
    " 'Andhra Pradesh',\n",
    " 'Haryana',\n",
    " 'Madhya Pradesh',\n",
    " 'Bihar',\n",
    " 'Assam',\n",
    " 'Jammu and Kashmir',\n",
    " 'Odisha',\n",
    " 'Punjab',\n",
    " 'Kerala',\n",
    " 'Uttarakhand',\n",
    " 'Chhattisgarh',\n",
    " 'Jharkhand',\n",
    " 'Tripura',\n",
    " 'Goa',\n",
    " 'Manipur',\n",
    " 'Ladakh',\n",
    " 'Himachal Pradesh',\n",
    " 'Puducherry',\n",
    " 'Nagaland',\n",
    " 'Chandigarh',\n",
    " 'Dadra and Nagar Haveli',\n",
    " 'Arunachal Pradesh',\n",
    " 'Mizoram',\n",
    " 'Sikkim',\n",
    " 'Andaman and Nicobar',\n",
    " 'Meghalaya',\n",
    " 'Lakshadweep']"
   ]
  },
  {
   "cell_type": "code",
   "execution_count": 2,
   "metadata": {},
   "outputs": [
    {
     "data": {
      "text/plain": [
       "['Maharashtra',\n",
       " 'Tamil Nadu',\n",
       " 'Delhi',\n",
       " 'Gujarat',\n",
       " 'Uttar Pradesh',\n",
       " 'West Bengal',\n",
       " 'Rajasthan',\n",
       " 'Telengana',\n",
       " 'Karnataka',\n",
       " 'Andhra Pradesh',\n",
       " 'Haryana',\n",
       " 'Madhya Pradesh',\n",
       " 'Bihar',\n",
       " 'Assam',\n",
       " 'Jammu and Kashmir',\n",
       " 'Odisha',\n",
       " 'Punjab',\n",
       " 'Kerala',\n",
       " 'Uttarakhand',\n",
       " 'Chhattisgarh',\n",
       " 'Jharkhand',\n",
       " 'Tripura',\n",
       " 'Goa',\n",
       " 'Manipur',\n",
       " 'Ladakh',\n",
       " 'Himachal Pradesh',\n",
       " 'Puducherry',\n",
       " 'Nagaland',\n",
       " 'Chandigarh',\n",
       " 'Dadra and Nagar Haveli',\n",
       " 'Arunachal Pradesh',\n",
       " 'Mizoram',\n",
       " 'Sikkim',\n",
       " 'Andaman and Nicobar',\n",
       " 'Meghalaya',\n",
       " 'Lakshadweep']"
      ]
     },
     "execution_count": 2,
     "metadata": {},
     "output_type": "execute_result"
    }
   ],
   "source": [
    "States\n"
   ]
  },
  {
   "cell_type": "code",
   "execution_count": 3,
   "metadata": {
    "collapsed": true
   },
   "outputs": [],
   "source": [
    "\n",
    "Infected = [180298,\n",
    " 94049,\n",
    " 89802,\n",
    " 33232,\n",
    " 24056,\n",
    " 19170,\n",
    " 18312,\n",
    " 17357,\n",
    " 16514,\n",
    " 15252,\n",
    " 14941,\n",
    " 13861,\n",
    " 10249,\n",
    " 8582,\n",
    " 7695,\n",
    " 7316,\n",
    " 5668,\n",
    " 4593,\n",
    " 2947,\n",
    " 2940,\n",
    " 2521,\n",
    " 1396,\n",
    " 1387,\n",
    " 1260,\n",
    " 990,\n",
    " 979,\n",
    " 714,\n",
    " 459,\n",
    " 446,\n",
    " 215,\n",
    " 195,\n",
    " 160,\n",
    " 101,\n",
    " 100,\n",
    " 52,\n",
    " 0]"
   ]
  },
  {
   "cell_type": "code",
   "execution_count": 4,
   "metadata": {},
   "outputs": [
    {
     "data": {
      "text/plain": [
       "[180298,\n",
       " 94049,\n",
       " 89802,\n",
       " 33232,\n",
       " 24056,\n",
       " 19170,\n",
       " 18312,\n",
       " 17357,\n",
       " 16514,\n",
       " 15252,\n",
       " 14941,\n",
       " 13861,\n",
       " 10249,\n",
       " 8582,\n",
       " 7695,\n",
       " 7316,\n",
       " 5668,\n",
       " 4593,\n",
       " 2947,\n",
       " 2940,\n",
       " 2521,\n",
       " 1396,\n",
       " 1387,\n",
       " 1260,\n",
       " 990,\n",
       " 979,\n",
       " 714,\n",
       " 459,\n",
       " 446,\n",
       " 215,\n",
       " 195,\n",
       " 160,\n",
       " 101,\n",
       " 100,\n",
       " 52,\n",
       " 0]"
      ]
     },
     "execution_count": 4,
     "metadata": {},
     "output_type": "execute_result"
    }
   ],
   "source": [
    "Infected"
   ]
  },
  {
   "cell_type": "code",
   "execution_count": 6,
   "metadata": {
    "collapsed": true
   },
   "outputs": [],
   "source": [
    "\n",
    "CovidData = {'Maharashtra': 180298,\n",
    " 'Tamil Nadu': 94049,\n",
    " 'Delhi': 89802,\n",
    " 'Gujarat': 33232,\n",
    " 'Uttar Pradesh': 24056,\n",
    " 'West Bengal': 19170,\n",
    " 'Rajasthan': 18312,\n",
    " 'Telengana': 17357,\n",
    " 'Karnataka': 16514,\n",
    " 'Andhra Pradesh': 15252,\n",
    " 'Haryana': 14941,\n",
    " 'Madhya Pradesh': 13861,\n",
    " 'Bihar': 10249,\n",
    " 'Assam': 8582,\n",
    " 'Jammu and Kashmir': 7695,\n",
    " 'Odisha': 7316,\n",
    " 'Punjab': 5668,\n",
    " 'Kerala': 4593,\n",
    " 'Uttarakhand': 2947,\n",
    " 'Chhattisgarh': 2940,\n",
    " 'Jharkhand': 2521,\n",
    " 'Tripura': 1396,\n",
    " 'Goa': 1387,\n",
    " 'Manipur': 1260,\n",
    " 'Ladakh': 990,\n",
    " 'Himachal Pradesh': 979,\n",
    " 'Puducherry': 714,\n",
    " 'Nagaland': 459,\n",
    " 'Chandigarh': 446,\n",
    " 'Dadra and Nagar Haveli': 215,\n",
    " 'Arunachal Pradesh': 195,\n",
    " 'Mizoram': 160,\n",
    " 'Sikkim': 101,\n",
    " 'Andaman and Nicobar': 100,\n",
    " 'Meghalaya': 52,\n",
    " 'Lakshadweep': 0}"
   ]
  },
  {
   "cell_type": "code",
   "execution_count": 7,
   "metadata": {},
   "outputs": [
    {
     "data": {
      "text/plain": [
       "{'Andaman and Nicobar': 100,\n",
       " 'Andhra Pradesh': 15252,\n",
       " 'Arunachal Pradesh': 195,\n",
       " 'Assam': 8582,\n",
       " 'Bihar': 10249,\n",
       " 'Chandigarh': 446,\n",
       " 'Chhattisgarh': 2940,\n",
       " 'Dadra and Nagar Haveli': 215,\n",
       " 'Delhi': 89802,\n",
       " 'Goa': 1387,\n",
       " 'Gujarat': 33232,\n",
       " 'Haryana': 14941,\n",
       " 'Himachal Pradesh': 979,\n",
       " 'Jammu and Kashmir': 7695,\n",
       " 'Jharkhand': 2521,\n",
       " 'Karnataka': 16514,\n",
       " 'Kerala': 4593,\n",
       " 'Ladakh': 990,\n",
       " 'Lakshadweep': 0,\n",
       " 'Madhya Pradesh': 13861,\n",
       " 'Maharashtra': 180298,\n",
       " 'Manipur': 1260,\n",
       " 'Meghalaya': 52,\n",
       " 'Mizoram': 160,\n",
       " 'Nagaland': 459,\n",
       " 'Odisha': 7316,\n",
       " 'Puducherry': 714,\n",
       " 'Punjab': 5668,\n",
       " 'Rajasthan': 18312,\n",
       " 'Sikkim': 101,\n",
       " 'Tamil Nadu': 94049,\n",
       " 'Telengana': 17357,\n",
       " 'Tripura': 1396,\n",
       " 'Uttar Pradesh': 24056,\n",
       " 'Uttarakhand': 2947,\n",
       " 'West Bengal': 19170}"
      ]
     },
     "execution_count": 7,
     "metadata": {},
     "output_type": "execute_result"
    }
   ],
   "source": [
    "CovidData\n"
   ]
  }
 ],
 "metadata": {
  "kernelspec": {
   "display_name": "Python 3",
   "language": "python",
   "name": "python3"
  },
  "language_info": {
   "codemirror_mode": {
    "name": "ipython",
    "version": 3
   },
   "file_extension": ".py",
   "mimetype": "text/x-python",
   "name": "python",
   "nbconvert_exporter": "python",
   "pygments_lexer": "ipython3",
   "version": "3.6.1"
  }
 },
 "nbformat": 4,
 "nbformat_minor": 2
}
