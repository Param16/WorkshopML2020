{
 "cells": [
  {
   "cell_type": "code",
   "execution_count": 1,
   "metadata": {},
   "outputs": [
    {
     "data": {
      "text/plain": [
       "['Maharashtra', 'Tamil Nadu', 'Delhi', 'Gujarat', 'Uttar Pradesh']"
      ]
     },
     "execution_count": 1,
     "metadata": {},
     "output_type": "execute_result"
    }
   ],
   "source": [
    "\n",
    "list1=[\"Maharashtra\",\"Tamil Nadu\",\"Delhi\",\"Gujarat\",\"Uttar Pradesh\"]\n",
    "list1"
   ]
  },
  {
   "cell_type": "code",
   "execution_count": 11,
   "metadata": {
    "collapsed": true
   },
   "outputs": [],
   "source": [
    "##LIST2"
   ]
  },
  {
   "cell_type": "code",
   "execution_count": 3,
   "metadata": {},
   "outputs": [
    {
     "data": {
      "text/plain": [
       "[180298, 94049, 89802, 33232, 24056]"
      ]
     },
     "execution_count": 3,
     "metadata": {},
     "output_type": "execute_result"
    }
   ],
   "source": [
    "# list2=[180298,94049,89802,33232,24056]\n",
    "list2"
   ]
  },
  {
   "cell_type": "code",
   "execution_count": null,
   "metadata": {
    "collapsed": true
   },
   "outputs": [],
   "source": []
  },
  {
   "cell_type": "code",
   "execution_count": 4,
   "metadata": {},
   "outputs": [
    {
     "name": "stdout",
     "output_type": "stream",
     "text": [
      "State wise Infected COVID19 cases\n",
      "Maharashtra: 180298\n",
      "Tamil Nadu: 94049\n",
      "Delhi: 89802\n",
      "Gujarat: 33232\n",
      "Uttar Pradesh: 24056\n"
     ]
    }
   ],
   "source": [
    "print(\"State wise Infected COVID19 cases\")\n",
    "for i in range(len(list1)):\n",
    " print(list1[i]+\": \"+str(list2[i]))"
   ]
  },
  {
   "cell_type": "code",
   "execution_count": null,
   "metadata": {
    "collapsed": true
   },
   "outputs": [],
   "source": [
    "#TUPLE1"
   ]
  },
  {
   "cell_type": "code",
   "execution_count": 5,
   "metadata": {},
   "outputs": [
    {
     "data": {
      "text/plain": [
       "('Maharashtra', 'Tamil Nadu', 'Delhi', 'Gujarat', 'Uttar Pradesh')"
      ]
     },
     "execution_count": 5,
     "metadata": {},
     "output_type": "execute_result"
    }
   ],
   "source": [
    "tuple1=(\"Maharashtra\",\"Tamil Nadu\",\"Delhi\",\"Gujarat\",\"Uttar Pradesh\")\n",
    "tuple1"
   ]
  },
  {
   "cell_type": "code",
   "execution_count": 12,
   "metadata": {
    "collapsed": true
   },
   "outputs": [],
   "source": [
    "#TUPLE2"
   ]
  },
  {
   "cell_type": "code",
   "execution_count": 6,
   "metadata": {},
   "outputs": [
    {
     "data": {
      "text/plain": [
       "[93154, 52926, 59992, 24030, 16629]"
      ]
     },
     "execution_count": 6,
     "metadata": {},
     "output_type": "execute_result"
    }
   ],
   "source": [
    "\n",
    "tuple2=[93154,52926,59992,24030,16629]\n",
    "tuple2"
   ]
  },
  {
   "cell_type": "code",
   "execution_count": 7,
   "metadata": {},
   "outputs": [
    {
     "name": "stdout",
     "output_type": "stream",
     "text": [
      "State wise Recovered COVID19 cases\n",
      "Maharashtra: 93154\n",
      "Tamil Nadu: 52926\n",
      "Delhi: 59992\n",
      "Gujarat: 24030\n",
      "Uttar Pradesh: 16629\n"
     ]
    }
   ],
   "source": [
    "print(\"State wise Recovered COVID19 cases\")\n",
    "for i in range(len(tuple1)):\n",
    " print(tuple1[i]+\": \"+str(tuple2[i]))"
   ]
  },
  {
   "cell_type": "code",
   "execution_count": 13,
   "metadata": {
    "collapsed": true,
    "scrolled": true
   },
   "outputs": [],
   "source": [
    "#DICTIONARY"
   ]
  },
  {
   "cell_type": "code",
   "execution_count": 8,
   "metadata": {},
   "outputs": [
    {
     "data": {
      "text/plain": [
       "{'Delhi': 27007,\n",
       " 'Gujarat': 7335,\n",
       " 'Maharashtra': 79091,\n",
       " 'Tamil Nadu': 39589,\n",
       " 'Uttar Pradesh': 6709}"
      ]
     },
     "execution_count": 8,
     "metadata": {},
     "output_type": "execute_result"
    }
   ],
   "source": [
    "\n",
    "Dictionary={\"Maharashtra\":79091,\"Tamil Nadu\":39589,\"Delhi\":27007,\"Gujarat\":7335,\"Uttar Pradesh\":6709}\n",
    "Dictionary"
   ]
  },
  {
   "cell_type": "code",
   "execution_count": 9,
   "metadata": {},
   "outputs": [
    {
     "name": "stdout",
     "output_type": "stream",
     "text": [
      "State wise Active COVID19 cases\n",
      "Maharashtra :  79091\n",
      "Tamil Nadu :  39589\n",
      "Delhi :  27007\n",
      "Gujarat :  7335\n",
      "Uttar Pradesh :  6709\n"
     ]
    }
   ],
   "source": [
    "print(\"State wise Active COVID19 cases\")\n",
    "for k,v in Dictionary.items():\n",
    " print(k,\": \",v)"
   ]
  },
  {
   "cell_type": "code",
   "execution_count": null,
   "metadata": {
    "collapsed": true
   },
   "outputs": [],
   "source": []
  }
 ],
 "metadata": {
  "kernelspec": {
   "display_name": "Python 3",
   "language": "python",
   "name": "python3"
  },
  "language_info": {
   "codemirror_mode": {
    "name": "ipython",
    "version": 3
   },
   "file_extension": ".py",
   "mimetype": "text/x-python",
   "name": "python",
   "nbconvert_exporter": "python",
   "pygments_lexer": "ipython3",
   "version": "3.6.1"
  }
 },
 "nbformat": 4,
 "nbformat_minor": 2
}
