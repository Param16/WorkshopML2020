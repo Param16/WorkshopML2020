{
 "cells": [
  {
   "cell_type": "code",
   "execution_count": null,
   "metadata": {
    "collapsed": true
   },
   "outputs": [],
   "source": []
  },
  {
   "cell_type": "code",
   "execution_count": 1,
   "metadata": {
    "collapsed": true
   },
   "outputs": [],
   "source": [
    "from tkinter import *\n",
    "import tkinter"
   ]
  },
  {
   "cell_type": "code",
   "execution_count": 5,
   "metadata": {},
   "outputs": [],
   "source": [
    "root = Tk()\n",
    "root.title(\"Pandemic Analytics Engine\")\n",
    "root.geometry(\"700x700\")\n",
    "def calculation():\n",
    "\n",
    "    total_ppl = entry_2.get()\n",
    "    int_total_ppl = int(total_ppl)\n",
    "\n",
    "    infected = entry_3.get()\n",
    "    int_infected = int(infected)\n",
    "\n",
    "    deceased = entry_4.get()\n",
    "    int_deceased = int(deceased)\n",
    "\n",
    "    ifr = (int_deceased / int_infected) * 100\n",
    "    cmr = (int_deceased / int_total_ppl)\n",
    "    \n",
    "    \n",
    "\n",
    "\n",
    "    label_1 = Label(root, font=(\"times\", 22, \"bold\"), text=\"Result\")\n",
    "    label_1.grid(row=7, columnspan=1)\n",
    "\n",
    "    label_2 = Label(root, font=(\"courier\", 12, \"bold\"), text=\"IFR : \")\n",
    "    label_2.grid(row=9, column=1)\n",
    "    label_3 = Label(root, text=ifr)\n",
    "    label_3.grid(row=9, column=2)\n",
    "\n",
    "    label_4 = Label(root, font=(\"courier\", 12, \"bold\"), text=\"CMR : \")\n",
    "    label_4.grid(row=10, column=1)\n",
    "    label_5 = Label(root, text=cmr)\n",
    "    label_5.grid(row=10, column=2)\n",
    "\n",
    "options = [\"Maharashtra\",\"Tamil Nadu\",\"Delhi\",\"Gujarat\",\"Uttar Pradesh\",\"West Bengal\",\"Rajasthan\",\"Telengana\",\"Karnataka\",\"Andhra Pradesh\",\"Haryana\",\"Madhya Pradesh\",\"Bihar\",\"Assam\",\"Jammu and Kashmir\",\"Odisha\",\"Punjab\",\"Kerala\",\"Chhattisgarh\",\"Uttarakhand\",\"Jharkhand\",\"Goa\",\"Tripura\",\"Manipur\",\"Himachal Pradesh\",\"Ladakh\",\"Puducherry\",\"Nagaland\",\"Chandigarh\",\"Dadra and Nagar Haveli\",\"Arunachal Pradesh\",\"Mizoram\",\"Andaman and Nicobar\",\"Sikkim\",\"Meghalaya\",\"Lakshadweep\"]\n",
    "\n",
    "select = StringVar() \n",
    "select.set(options[0])\n",
    "\n",
    "label_1 = Label(root,font=(\"helvetica\", 22, \"bold\"), text=\"Pandemic Analytics Engine\")\n",
    "label_1.grid(row=1,columnspan = 1)\n",
    "\n",
    "label_2 = Label(root, text=\"Enter State \")\n",
    "label_2.grid(row=2)\n",
    "drop = OptionMenu(root,select,*options)\n",
    "drop.grid(row=2,column=2)\n",
    "\n",
    "label_3 = Label(root, text=\"Total number of ppl\")\n",
    "label_3.grid(row=3)\n",
    "entry_2 = Entry(root)\n",
    "entry_2.grid(row=3, column=2)\n",
    "\n",
    "label_4 = Label(root, text=\"Infected\")\n",
    "label_4.grid(row=4)\n",
    "entry_3 = Entry(root)\n",
    "entry_3.grid(row=4, column=2)\n",
    "\n",
    "label_5 = Label(root, text=\"Deceased\")\n",
    "label_5.grid(row=5)\n",
    "entry_4 = Entry(root)\n",
    "entry_4.grid(row=5, column=2)\n",
    "\n",
    "\n",
    "\n",
    "\n",
    "\n",
    "button1 = Button(root, text=\"Calculate IFR & CMR \",command=calculation)\n",
    "button1.grid(column=2)\n",
    "root.mainloop()"
   ]
  },
  {
   "cell_type": "code",
   "execution_count": 10,
   "metadata": {
    "collapsed": true
   },
   "outputs": [],
   "source": []
  },
  {
   "cell_type": "code",
   "execution_count": null,
   "metadata": {
    "collapsed": true
   },
   "outputs": [],
   "source": []
  }
 ],
 "metadata": {
  "kernelspec": {
   "display_name": "Python 3",
   "language": "python",
   "name": "python3"
  },
  "language_info": {
   "codemirror_mode": {
    "name": "ipython",
    "version": 3
   },
   "file_extension": ".py",
   "mimetype": "text/x-python",
   "name": "python",
   "nbconvert_exporter": "python",
   "pygments_lexer": "ipython3",
   "version": "3.6.1"
  }
 },
 "nbformat": 4,
 "nbformat_minor": 2
}
